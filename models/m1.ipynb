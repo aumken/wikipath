{
 "cells": [
  {
   "cell_type": "code",
   "execution_count": 11,
   "metadata": {},
   "outputs": [],
   "source": [
    "from api import get_forward_links, get_backward_links\n",
    "from collections import deque\n",
    "import time"
   ]
  },
  {
   "cell_type": "code",
   "execution_count": 5,
   "metadata": {},
   "outputs": [],
   "source": [
    "def bidirectional_search(start_article, end_article):\n",
    "    start_time = time.time()\n",
    "    start_queue = deque([(start_article, [start_article])])\n",
    "    end_queue = deque([(end_article, [end_article])])\n",
    "    start_visited = {start_article: [start_article]}\n",
    "    end_visited = {end_article: [end_article]}\n",
    "    counter = 2  # Include starting and ending article\n",
    "\n",
    "    while start_queue and end_queue:\n",
    "        start_article, start_path = start_queue.popleft()\n",
    "        start_links = get_forward_links(start_article)\n",
    "\n",
    "        for link in start_links:\n",
    "            new_path = start_path + [link]\n",
    "\n",
    "            if link not in start_visited or len(new_path) < len(start_visited[link]):\n",
    "                counter += 1\n",
    "                start_queue.append((link, new_path))\n",
    "                start_visited[link] = new_path\n",
    "\n",
    "                if link in end_visited:\n",
    "                    end_path = end_visited[link]\n",
    "                    end_time = time.time()\n",
    "                    return (start_path + end_path, len(start_path + end_path), counter, end_time - start_time)\n",
    "\n",
    "        end_article, end_path = end_queue.popleft()\n",
    "        end_links = get_backward_links(end_article)\n",
    "\n",
    "        for link in end_links:\n",
    "            new_path = [link] + end_path\n",
    "\n",
    "            if link not in end_visited or len(new_path) < len(end_visited[link]):\n",
    "                counter += 1\n",
    "                end_queue.append((link, new_path))\n",
    "                end_visited[link] = new_path\n",
    "\n",
    "                if link in start_visited:\n",
    "                    start_path = start_visited[link]\n",
    "                    end_time = time.time()\n",
    "                    return (start_path + end_path, len(start_path + end_path), counter, end_time - start_time)\n",
    "\n",
    "    return None\n"
   ]
  },
  {
   "cell_type": "code",
   "execution_count": 6,
   "metadata": {},
   "outputs": [],
   "source": [
    "start_article = \"Neon Genesis Evangelion\"\n",
    "end_article = \"Roundnet\"\n",
    "result_path, result_path_length, links, time_taken = bidirectional_search(start_article, end_article)"
   ]
  },
  {
   "cell_type": "code",
   "execution_count": 7,
   "metadata": {},
   "outputs": [
    {
     "name": "stdout",
     "output_type": "stream",
     "text": [
      "Start article: Neon Genesis Evangelion\n",
      "End article: Roundnet\n",
      "Path: Neon Genesis Evangelion → Greek language → Feminism in Greece → List of sports → Roundnet\n",
      "Path length: 5\n",
      "Number of links visited: 4380\n",
      "Time taken: 35.492778062820435 seconds\n"
     ]
    }
   ],
   "source": [
    "formatted_result_path = ' → '.join(result_path)\n",
    "formatted_result = f\"Start article: {start_article}\\n\" \\\n",
    "                   f\"End article: {end_article}\\n\" \\\n",
    "                   f\"Path: {formatted_result_path}\\n\" \\\n",
    "                   f\"Path length: {result_path_length}\\n\" \\\n",
    "                   f\"Number of links visited: {links}\\n\" \\\n",
    "                   f\"Time taken: {time_taken} seconds\"\n",
    "\n",
    "print(formatted_result)\n"
   ]
  }
 ],
 "metadata": {
  "kernelspec": {
   "display_name": "Python 3",
   "language": "python",
   "name": "python3"
  },
  "language_info": {
   "codemirror_mode": {
    "name": "ipython",
    "version": 3
   },
   "file_extension": ".py",
   "mimetype": "text/x-python",
   "name": "python",
   "nbconvert_exporter": "python",
   "pygments_lexer": "ipython3",
   "version": "3.10.6"
  },
  "orig_nbformat": 4
 },
 "nbformat": 4,
 "nbformat_minor": 2
}
